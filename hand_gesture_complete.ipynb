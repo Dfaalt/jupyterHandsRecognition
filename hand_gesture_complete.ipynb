{
 "cells": [
  {
   "cell_type": "markdown",
   "id": "385feecc",
   "metadata": {},
   "source": [
    "# ✅ Install dependencies"
   ]
  },
  {
   "cell_type": "code",
   "execution_count": null,
   "id": "d63a569d",
   "metadata": {},
   "outputs": [
    {
     "name": "stdout",
     "output_type": "stream",
     "text": [
      "Requirement already satisfied: tensorflow in d:\\tugas akhir\\program\\jupyter-hands-recognition\\venv\\lib\\site-packages (2.15.1)\n",
      "Requirement already satisfied: numpy in d:\\tugas akhir\\program\\jupyter-hands-recognition\\venv\\lib\\site-packages (1.26.4)\n",
      "Requirement already satisfied: mediapipe in d:\\tugas akhir\\program\\jupyter-hands-recognition\\venv\\lib\\site-packages (0.10.21)\n",
      "Requirement already satisfied: opencv-python in d:\\tugas akhir\\program\\jupyter-hands-recognition\\venv\\lib\\site-packages (4.11.0.86)\n",
      "Requirement already satisfied: tensorflowjs in d:\\tugas akhir\\program\\jupyter-hands-recognition\\venv\\lib\\site-packages (4.22.0)\n",
      "Requirement already satisfied: pyautogui in d:\\tugas akhir\\program\\jupyter-hands-recognition\\venv\\lib\\site-packages (0.9.54)\n",
      "Requirement already satisfied: matplotlib in d:\\tugas akhir\\program\\jupyter-hands-recognition\\venv\\lib\\site-packages (3.10.0)\n",
      "Collecting seaborn\n",
      "  Downloading seaborn-0.13.2-py3-none-any.whl.metadata (5.4 kB)\n",
      "Requirement already satisfied: scikit-learn in d:\\tugas akhir\\program\\jupyter-hands-recognition\\venv\\lib\\site-packages (1.6.1)\n",
      "Requirement already satisfied: ipython in d:\\tugas akhir\\program\\jupyter-hands-recognition\\venv\\lib\\site-packages (8.32.0)\n",
      "Requirement already satisfied: tensorflow-intel==2.15.1 in d:\\tugas akhir\\program\\jupyter-hands-recognition\\venv\\lib\\site-packages (from tensorflow) (2.15.1)\n",
      "Requirement already satisfied: absl-py>=1.0.0 in d:\\tugas akhir\\program\\jupyter-hands-recognition\\venv\\lib\\site-packages (from tensorflow-intel==2.15.1->tensorflow) (2.1.0)\n",
      "Requirement already satisfied: astunparse>=1.6.0 in d:\\tugas akhir\\program\\jupyter-hands-recognition\\venv\\lib\\site-packages (from tensorflow-intel==2.15.1->tensorflow) (1.6.3)\n",
      "Requirement already satisfied: flatbuffers>=23.5.26 in d:\\tugas akhir\\program\\jupyter-hands-recognition\\venv\\lib\\site-packages (from tensorflow-intel==2.15.1->tensorflow) (25.2.10)\n",
      "Requirement already satisfied: gast!=0.5.0,!=0.5.1,!=0.5.2,>=0.2.1 in d:\\tugas akhir\\program\\jupyter-hands-recognition\\venv\\lib\\site-packages (from tensorflow-intel==2.15.1->tensorflow) (0.6.0)\n",
      "Requirement already satisfied: google-pasta>=0.1.1 in d:\\tugas akhir\\program\\jupyter-hands-recognition\\venv\\lib\\site-packages (from tensorflow-intel==2.15.1->tensorflow) (0.2.0)\n",
      "Requirement already satisfied: h5py>=2.9.0 in d:\\tugas akhir\\program\\jupyter-hands-recognition\\venv\\lib\\site-packages (from tensorflow-intel==2.15.1->tensorflow) (3.13.0)\n",
      "Requirement already satisfied: libclang>=13.0.0 in d:\\tugas akhir\\program\\jupyter-hands-recognition\\venv\\lib\\site-packages (from tensorflow-intel==2.15.1->tensorflow) (18.1.1)\n",
      "Requirement already satisfied: ml-dtypes~=0.3.1 in d:\\tugas akhir\\program\\jupyter-hands-recognition\\venv\\lib\\site-packages (from tensorflow-intel==2.15.1->tensorflow) (0.3.2)\n",
      "Requirement already satisfied: opt-einsum>=2.3.2 in d:\\tugas akhir\\program\\jupyter-hands-recognition\\venv\\lib\\site-packages (from tensorflow-intel==2.15.1->tensorflow) (3.4.0)\n",
      "Requirement already satisfied: packaging in d:\\tugas akhir\\program\\jupyter-hands-recognition\\venv\\lib\\site-packages (from tensorflow-intel==2.15.1->tensorflow) (23.2)\n",
      "Requirement already satisfied: protobuf!=4.21.0,!=4.21.1,!=4.21.2,!=4.21.3,!=4.21.4,!=4.21.5,<5.0.0dev,>=3.20.3 in d:\\tugas akhir\\program\\jupyter-hands-recognition\\venv\\lib\\site-packages (from tensorflow-intel==2.15.1->tensorflow) (4.25.6)\n",
      "Requirement already satisfied: setuptools in d:\\tugas akhir\\program\\jupyter-hands-recognition\\venv\\lib\\site-packages (from tensorflow-intel==2.15.1->tensorflow) (65.5.0)\n",
      "Requirement already satisfied: six>=1.12.0 in d:\\tugas akhir\\program\\jupyter-hands-recognition\\venv\\lib\\site-packages (from tensorflow-intel==2.15.1->tensorflow) (1.17.0)\n",
      "Requirement already satisfied: termcolor>=1.1.0 in d:\\tugas akhir\\program\\jupyter-hands-recognition\\venv\\lib\\site-packages (from tensorflow-intel==2.15.1->tensorflow) (2.5.0)\n",
      "Requirement already satisfied: typing-extensions>=3.6.6 in d:\\tugas akhir\\program\\jupyter-hands-recognition\\venv\\lib\\site-packages (from tensorflow-intel==2.15.1->tensorflow) (4.12.2)\n",
      "Requirement already satisfied: wrapt<1.15,>=1.11.0 in d:\\tugas akhir\\program\\jupyter-hands-recognition\\venv\\lib\\site-packages (from tensorflow-intel==2.15.1->tensorflow) (1.14.1)\n",
      "Requirement already satisfied: tensorflow-io-gcs-filesystem>=0.23.1 in d:\\tugas akhir\\program\\jupyter-hands-recognition\\venv\\lib\\site-packages (from tensorflow-intel==2.15.1->tensorflow) (0.31.0)\n",
      "Requirement already satisfied: grpcio<2.0,>=1.24.3 in d:\\tugas akhir\\program\\jupyter-hands-recognition\\venv\\lib\\site-packages (from tensorflow-intel==2.15.1->tensorflow) (1.70.0)\n",
      "Requirement already satisfied: tensorboard<2.16,>=2.15 in d:\\tugas akhir\\program\\jupyter-hands-recognition\\venv\\lib\\site-packages (from tensorflow-intel==2.15.1->tensorflow) (2.15.2)\n",
      "Requirement already satisfied: tensorflow-estimator<2.16,>=2.15.0 in d:\\tugas akhir\\program\\jupyter-hands-recognition\\venv\\lib\\site-packages (from tensorflow-intel==2.15.1->tensorflow) (2.15.0)\n",
      "Requirement already satisfied: keras<2.16,>=2.15.0 in d:\\tugas akhir\\program\\jupyter-hands-recognition\\venv\\lib\\site-packages (from tensorflow-intel==2.15.1->tensorflow) (2.15.0)\n",
      "Requirement already satisfied: attrs>=19.1.0 in d:\\tugas akhir\\program\\jupyter-hands-recognition\\venv\\lib\\site-packages (from mediapipe) (25.1.0)\n",
      "Requirement already satisfied: jax in d:\\tugas akhir\\program\\jupyter-hands-recognition\\venv\\lib\\site-packages (from mediapipe) (0.4.34)\n",
      "Requirement already satisfied: jaxlib in d:\\tugas akhir\\program\\jupyter-hands-recognition\\venv\\lib\\site-packages (from mediapipe) (0.4.34)\n",
      "Requirement already satisfied: opencv-contrib-python in d:\\tugas akhir\\program\\jupyter-hands-recognition\\venv\\lib\\site-packages (from mediapipe) (4.11.0.86)\n",
      "Requirement already satisfied: sounddevice>=0.4.4 in d:\\tugas akhir\\program\\jupyter-hands-recognition\\venv\\lib\\site-packages (from mediapipe) (0.5.1)\n",
      "Requirement already satisfied: sentencepiece in d:\\tugas akhir\\program\\jupyter-hands-recognition\\venv\\lib\\site-packages (from mediapipe) (0.2.0)\n",
      "Requirement already satisfied: flax>=0.7.2 in d:\\tugas akhir\\program\\jupyter-hands-recognition\\venv\\lib\\site-packages (from tensorflowjs) (0.10.3)\n",
      "Requirement already satisfied: importlib_resources>=5.9.0 in d:\\tugas akhir\\program\\jupyter-hands-recognition\\venv\\lib\\site-packages (from tensorflowjs) (6.5.2)\n",
      "Requirement already satisfied: tf-keras>=2.13.0 in d:\\tugas akhir\\program\\jupyter-hands-recognition\\venv\\lib\\site-packages (from tensorflowjs) (2.15.1)\n",
      "Requirement already satisfied: tensorflow-decision-forests>=1.5.0 in d:\\tugas akhir\\program\\jupyter-hands-recognition\\venv\\lib\\site-packages (from tensorflowjs) (1.8.1)\n",
      "Requirement already satisfied: tensorflow-hub>=0.16.1 in d:\\tugas akhir\\program\\jupyter-hands-recognition\\venv\\lib\\site-packages (from tensorflowjs) (0.16.1)\n",
      "Requirement already satisfied: pymsgbox in d:\\tugas akhir\\program\\jupyter-hands-recognition\\venv\\lib\\site-packages (from pyautogui) (1.0.9)\n",
      "Requirement already satisfied: pytweening>=1.0.4 in d:\\tugas akhir\\program\\jupyter-hands-recognition\\venv\\lib\\site-packages (from pyautogui) (1.2.0)\n",
      "Requirement already satisfied: pyscreeze>=0.1.21 in d:\\tugas akhir\\program\\jupyter-hands-recognition\\venv\\lib\\site-packages (from pyautogui) (1.0.1)\n",
      "Requirement already satisfied: pygetwindow>=0.0.5 in d:\\tugas akhir\\program\\jupyter-hands-recognition\\venv\\lib\\site-packages (from pyautogui) (0.0.9)\n",
      "Requirement already satisfied: mouseinfo in d:\\tugas akhir\\program\\jupyter-hands-recognition\\venv\\lib\\site-packages (from pyautogui) (0.1.3)\n",
      "Requirement already satisfied: contourpy>=1.0.1 in d:\\tugas akhir\\program\\jupyter-hands-recognition\\venv\\lib\\site-packages (from matplotlib) (1.3.1)\n",
      "Requirement already satisfied: cycler>=0.10 in d:\\tugas akhir\\program\\jupyter-hands-recognition\\venv\\lib\\site-packages (from matplotlib) (0.12.1)\n",
      "Requirement already satisfied: fonttools>=4.22.0 in d:\\tugas akhir\\program\\jupyter-hands-recognition\\venv\\lib\\site-packages (from matplotlib) (4.56.0)\n",
      "Requirement already satisfied: kiwisolver>=1.3.1 in d:\\tugas akhir\\program\\jupyter-hands-recognition\\venv\\lib\\site-packages (from matplotlib) (1.4.8)\n",
      "Requirement already satisfied: pillow>=8 in d:\\tugas akhir\\program\\jupyter-hands-recognition\\venv\\lib\\site-packages (from matplotlib) (11.1.0)\n",
      "Requirement already satisfied: pyparsing>=2.3.1 in d:\\tugas akhir\\program\\jupyter-hands-recognition\\venv\\lib\\site-packages (from matplotlib) (3.2.1)\n",
      "Requirement already satisfied: python-dateutil>=2.7 in d:\\tugas akhir\\program\\jupyter-hands-recognition\\venv\\lib\\site-packages (from matplotlib) (2.9.0.post0)\n",
      "Requirement already satisfied: pandas>=1.2 in d:\\tugas akhir\\program\\jupyter-hands-recognition\\venv\\lib\\site-packages (from seaborn) (2.2.3)\n",
      "Requirement already satisfied: scipy>=1.6.0 in d:\\tugas akhir\\program\\jupyter-hands-recognition\\venv\\lib\\site-packages (from scikit-learn) (1.15.2)\n",
      "Requirement already satisfied: joblib>=1.2.0 in d:\\tugas akhir\\program\\jupyter-hands-recognition\\venv\\lib\\site-packages (from scikit-learn) (1.4.2)\n",
      "Requirement already satisfied: threadpoolctl>=3.1.0 in d:\\tugas akhir\\program\\jupyter-hands-recognition\\venv\\lib\\site-packages (from scikit-learn) (3.5.0)\n",
      "Requirement already satisfied: colorama in d:\\tugas akhir\\program\\jupyter-hands-recognition\\venv\\lib\\site-packages (from ipython) (0.4.6)\n",
      "Requirement already satisfied: decorator in d:\\tugas akhir\\program\\jupyter-hands-recognition\\venv\\lib\\site-packages (from ipython) (5.1.1)\n",
      "Requirement already satisfied: jedi>=0.16 in d:\\tugas akhir\\program\\jupyter-hands-recognition\\venv\\lib\\site-packages (from ipython) (0.19.2)\n",
      "Requirement already satisfied: matplotlib-inline in d:\\tugas akhir\\program\\jupyter-hands-recognition\\venv\\lib\\site-packages (from ipython) (0.1.7)\n",
      "Requirement already satisfied: prompt_toolkit<3.1.0,>=3.0.41 in d:\\tugas akhir\\program\\jupyter-hands-recognition\\venv\\lib\\site-packages (from ipython) (3.0.50)\n",
      "Requirement already satisfied: pygments>=2.4.0 in d:\\tugas akhir\\program\\jupyter-hands-recognition\\venv\\lib\\site-packages (from ipython) (2.19.1)\n",
      "Requirement already satisfied: stack_data in d:\\tugas akhir\\program\\jupyter-hands-recognition\\venv\\lib\\site-packages (from ipython) (0.6.3)\n",
      "Requirement already satisfied: traitlets>=5.13.0 in d:\\tugas akhir\\program\\jupyter-hands-recognition\\venv\\lib\\site-packages (from ipython) (5.14.3)\n",
      "Requirement already satisfied: msgpack in d:\\tugas akhir\\program\\jupyter-hands-recognition\\venv\\lib\\site-packages (from flax>=0.7.2->tensorflowjs) (1.1.0)\n",
      "Requirement already satisfied: optax in d:\\tugas akhir\\program\\jupyter-hands-recognition\\venv\\lib\\site-packages (from flax>=0.7.2->tensorflowjs) (0.2.4)\n",
      "Requirement already satisfied: orbax-checkpoint in d:\\tugas akhir\\program\\jupyter-hands-recognition\\venv\\lib\\site-packages (from flax>=0.7.2->tensorflowjs) (0.11.5)\n",
      "Requirement already satisfied: tensorstore in d:\\tugas akhir\\program\\jupyter-hands-recognition\\venv\\lib\\site-packages (from flax>=0.7.2->tensorflowjs) (0.1.72)\n",
      "Requirement already satisfied: rich>=11.1 in d:\\tugas akhir\\program\\jupyter-hands-recognition\\venv\\lib\\site-packages (from flax>=0.7.2->tensorflowjs) (13.9.4)\n",
      "Requirement already satisfied: PyYAML>=5.4.1 in d:\\tugas akhir\\program\\jupyter-hands-recognition\\venv\\lib\\site-packages (from flax>=0.7.2->tensorflowjs) (6.0.2)\n",
      "Requirement already satisfied: treescope>=0.1.7 in d:\\tugas akhir\\program\\jupyter-hands-recognition\\venv\\lib\\site-packages (from flax>=0.7.2->tensorflowjs) (0.1.9)\n",
      "Requirement already satisfied: parso<0.9.0,>=0.8.4 in d:\\tugas akhir\\program\\jupyter-hands-recognition\\venv\\lib\\site-packages (from jedi>=0.16->ipython) (0.8.4)\n",
      "Requirement already satisfied: pytz>=2020.1 in d:\\tugas akhir\\program\\jupyter-hands-recognition\\venv\\lib\\site-packages (from pandas>=1.2->seaborn) (2025.1)\n",
      "Requirement already satisfied: tzdata>=2022.7 in d:\\tugas akhir\\program\\jupyter-hands-recognition\\venv\\lib\\site-packages (from pandas>=1.2->seaborn) (2025.1)\n",
      "Requirement already satisfied: wcwidth in d:\\tugas akhir\\program\\jupyter-hands-recognition\\venv\\lib\\site-packages (from prompt_toolkit<3.1.0,>=3.0.41->ipython) (0.2.13)\n",
      "Requirement already satisfied: pyrect in d:\\tugas akhir\\program\\jupyter-hands-recognition\\venv\\lib\\site-packages (from pygetwindow>=0.0.5->pyautogui) (0.2.0)\n",
      "Requirement already satisfied: CFFI>=1.0 in d:\\tugas akhir\\program\\jupyter-hands-recognition\\venv\\lib\\site-packages (from sounddevice>=0.4.4->mediapipe) (1.17.1)\n",
      "Requirement already satisfied: wheel in d:\\tugas akhir\\program\\jupyter-hands-recognition\\venv\\lib\\site-packages (from tensorflow-decision-forests>=1.5.0->tensorflowjs) (0.45.1)\n",
      "Requirement already satisfied: wurlitzer in d:\\tugas akhir\\program\\jupyter-hands-recognition\\venv\\lib\\site-packages (from tensorflow-decision-forests>=1.5.0->tensorflowjs) (3.1.1)\n",
      "Requirement already satisfied: pyperclip in d:\\tugas akhir\\program\\jupyter-hands-recognition\\venv\\lib\\site-packages (from mouseinfo->pyautogui) (1.9.0)\n",
      "Requirement already satisfied: executing>=1.2.0 in d:\\tugas akhir\\program\\jupyter-hands-recognition\\venv\\lib\\site-packages (from stack_data->ipython) (2.2.0)\n",
      "Requirement already satisfied: asttokens>=2.1.0 in d:\\tugas akhir\\program\\jupyter-hands-recognition\\venv\\lib\\site-packages (from stack_data->ipython) (3.0.0)\n",
      "Requirement already satisfied: pure-eval in d:\\tugas akhir\\program\\jupyter-hands-recognition\\venv\\lib\\site-packages (from stack_data->ipython) (0.2.3)\n",
      "Requirement already satisfied: pycparser in d:\\tugas akhir\\program\\jupyter-hands-recognition\\venv\\lib\\site-packages (from CFFI>=1.0->sounddevice>=0.4.4->mediapipe) (2.22)\n",
      "Requirement already satisfied: markdown-it-py>=2.2.0 in d:\\tugas akhir\\program\\jupyter-hands-recognition\\venv\\lib\\site-packages (from rich>=11.1->flax>=0.7.2->tensorflowjs) (3.0.0)\n",
      "Requirement already satisfied: google-auth<3,>=1.6.3 in d:\\tugas akhir\\program\\jupyter-hands-recognition\\venv\\lib\\site-packages (from tensorboard<2.16,>=2.15->tensorflow-intel==2.15.1->tensorflow) (2.38.0)\n",
      "Requirement already satisfied: google-auth-oauthlib<2,>=0.5 in d:\\tugas akhir\\program\\jupyter-hands-recognition\\venv\\lib\\site-packages (from tensorboard<2.16,>=2.15->tensorflow-intel==2.15.1->tensorflow) (1.2.1)\n",
      "Requirement already satisfied: markdown>=2.6.8 in d:\\tugas akhir\\program\\jupyter-hands-recognition\\venv\\lib\\site-packages (from tensorboard<2.16,>=2.15->tensorflow-intel==2.15.1->tensorflow) (3.7)\n",
      "Requirement already satisfied: requests<3,>=2.21.0 in d:\\tugas akhir\\program\\jupyter-hands-recognition\\venv\\lib\\site-packages (from tensorboard<2.16,>=2.15->tensorflow-intel==2.15.1->tensorflow) (2.32.3)\n",
      "Requirement already satisfied: tensorboard-data-server<0.8.0,>=0.7.0 in d:\\tugas akhir\\program\\jupyter-hands-recognition\\venv\\lib\\site-packages (from tensorboard<2.16,>=2.15->tensorflow-intel==2.15.1->tensorflow) (0.7.2)\n",
      "Requirement already satisfied: werkzeug>=1.0.1 in d:\\tugas akhir\\program\\jupyter-hands-recognition\\venv\\lib\\site-packages (from tensorboard<2.16,>=2.15->tensorflow-intel==2.15.1->tensorflow) (3.1.3)\n",
      "Requirement already satisfied: chex>=0.1.87 in d:\\tugas akhir\\program\\jupyter-hands-recognition\\venv\\lib\\site-packages (from optax->flax>=0.7.2->tensorflowjs) (0.1.88)\n",
      "Requirement already satisfied: etils[epy] in d:\\tugas akhir\\program\\jupyter-hands-recognition\\venv\\lib\\site-packages (from optax->flax>=0.7.2->tensorflowjs) (1.12.0)\n",
      "Requirement already satisfied: nest_asyncio in d:\\tugas akhir\\program\\jupyter-hands-recognition\\venv\\lib\\site-packages (from orbax-checkpoint->flax>=0.7.2->tensorflowjs) (1.6.0)\n",
      "Requirement already satisfied: humanize in d:\\tugas akhir\\program\\jupyter-hands-recognition\\venv\\lib\\site-packages (from orbax-checkpoint->flax>=0.7.2->tensorflowjs) (4.12.1)\n",
      "Requirement already satisfied: simplejson>=3.16.0 in d:\\tugas akhir\\program\\jupyter-hands-recognition\\venv\\lib\\site-packages (from orbax-checkpoint->flax>=0.7.2->tensorflowjs) (3.20.1)\n",
      "Requirement already satisfied: toolz>=0.9.0 in d:\\tugas akhir\\program\\jupyter-hands-recognition\\venv\\lib\\site-packages (from chex>=0.1.87->optax->flax>=0.7.2->tensorflowjs) (1.0.0)\n",
      "Requirement already satisfied: cachetools<6.0,>=2.0.0 in d:\\tugas akhir\\program\\jupyter-hands-recognition\\venv\\lib\\site-packages (from google-auth<3,>=1.6.3->tensorboard<2.16,>=2.15->tensorflow-intel==2.15.1->tensorflow) (5.5.2)\n",
      "Requirement already satisfied: pyasn1-modules>=0.2.1 in d:\\tugas akhir\\program\\jupyter-hands-recognition\\venv\\lib\\site-packages (from google-auth<3,>=1.6.3->tensorboard<2.16,>=2.15->tensorflow-intel==2.15.1->tensorflow) (0.4.1)\n",
      "Requirement already satisfied: rsa<5,>=3.1.4 in d:\\tugas akhir\\program\\jupyter-hands-recognition\\venv\\lib\\site-packages (from google-auth<3,>=1.6.3->tensorboard<2.16,>=2.15->tensorflow-intel==2.15.1->tensorflow) (4.9)\n",
      "Requirement already satisfied: requests-oauthlib>=0.7.0 in d:\\tugas akhir\\program\\jupyter-hands-recognition\\venv\\lib\\site-packages (from google-auth-oauthlib<2,>=0.5->tensorboard<2.16,>=2.15->tensorflow-intel==2.15.1->tensorflow) (2.0.0)\n",
      "Requirement already satisfied: mdurl~=0.1 in d:\\tugas akhir\\program\\jupyter-hands-recognition\\venv\\lib\\site-packages (from markdown-it-py>=2.2.0->rich>=11.1->flax>=0.7.2->tensorflowjs) (0.1.2)\n",
      "Requirement already satisfied: charset-normalizer<4,>=2 in d:\\tugas akhir\\program\\jupyter-hands-recognition\\venv\\lib\\site-packages (from requests<3,>=2.21.0->tensorboard<2.16,>=2.15->tensorflow-intel==2.15.1->tensorflow) (3.4.1)\n",
      "Requirement already satisfied: idna<4,>=2.5 in d:\\tugas akhir\\program\\jupyter-hands-recognition\\venv\\lib\\site-packages (from requests<3,>=2.21.0->tensorboard<2.16,>=2.15->tensorflow-intel==2.15.1->tensorflow) (3.10)\n",
      "Requirement already satisfied: urllib3<3,>=1.21.1 in d:\\tugas akhir\\program\\jupyter-hands-recognition\\venv\\lib\\site-packages (from requests<3,>=2.21.0->tensorboard<2.16,>=2.15->tensorflow-intel==2.15.1->tensorflow) (2.3.0)\n",
      "Requirement already satisfied: certifi>=2017.4.17 in d:\\tugas akhir\\program\\jupyter-hands-recognition\\venv\\lib\\site-packages (from requests<3,>=2.21.0->tensorboard<2.16,>=2.15->tensorflow-intel==2.15.1->tensorflow) (2025.1.31)\n",
      "Requirement already satisfied: MarkupSafe>=2.1.1 in d:\\tugas akhir\\program\\jupyter-hands-recognition\\venv\\lib\\site-packages (from werkzeug>=1.0.1->tensorboard<2.16,>=2.15->tensorflow-intel==2.15.1->tensorflow) (3.0.2)\n",
      "Requirement already satisfied: fsspec in d:\\tugas akhir\\program\\jupyter-hands-recognition\\venv\\lib\\site-packages (from etils[epath,epy]->orbax-checkpoint->flax>=0.7.2->tensorflowjs) (2025.2.0)\n",
      "Requirement already satisfied: zipp in d:\\tugas akhir\\program\\jupyter-hands-recognition\\venv\\lib\\site-packages (from etils[epath,epy]->orbax-checkpoint->flax>=0.7.2->tensorflowjs) (3.21.0)\n",
      "Requirement already satisfied: pyasn1<0.7.0,>=0.4.6 in d:\\tugas akhir\\program\\jupyter-hands-recognition\\venv\\lib\\site-packages (from pyasn1-modules>=0.2.1->google-auth<3,>=1.6.3->tensorboard<2.16,>=2.15->tensorflow-intel==2.15.1->tensorflow) (0.6.1)\n",
      "Requirement already satisfied: oauthlib>=3.0.0 in d:\\tugas akhir\\program\\jupyter-hands-recognition\\venv\\lib\\site-packages (from requests-oauthlib>=0.7.0->google-auth-oauthlib<2,>=0.5->tensorboard<2.16,>=2.15->tensorflow-intel==2.15.1->tensorflow) (3.2.2)\n",
      "Downloading seaborn-0.13.2-py3-none-any.whl (294 kB)\n",
      "Installing collected packages: seaborn\n",
      "Successfully installed seaborn-0.13.2\n",
      "Note: you may need to restart the kernel to use updated packages.\n"
     ]
    },
    {
     "name": "stderr",
     "output_type": "stream",
     "text": [
      "\n",
      "[notice] A new release of pip is available: 25.0.1 -> 25.1.1\n",
      "[notice] To update, run: python.exe -m pip install --upgrade pip\n"
     ]
    }
   ],
   "source": [
    "%pip install tensorflow numpy mediapipe opencv-python tensorflowjs pyautogui matplotlib seaborn scikit-learn ipython"
   ]
  },
  {
   "cell_type": "markdown",
   "id": "6f7c9c32",
   "metadata": {},
   "source": [
    "# ✅ Import library"
   ]
  },
  {
   "cell_type": "code",
   "execution_count": null,
   "id": "eafd3095",
   "metadata": {},
   "outputs": [
    {
     "name": "stdout",
     "output_type": "stream",
     "text": [
      "WARNING:tensorflow:From d:\\Tugas Akhir\\Program\\jupyter-hands-recognition\\venv\\Lib\\site-packages\\keras\\src\\losses.py:2976: The name tf.losses.sparse_softmax_cross_entropy is deprecated. Please use tf.compat.v1.losses.sparse_softmax_cross_entropy instead.\n",
      "\n"
     ]
    }
   ],
   "source": [
    "import cv2\n",
    "import numpy as np\n",
    "import mediapipe as mp\n",
    "import tensorflow as tf\n",
    "from tensorflow import keras\n",
    "from tensorflow.keras.models import Sequential\n",
    "from tensorflow.keras.layers import LSTM, Dense\n",
    "import os\n",
    "import matplotlib.pyplot as plt\n",
    "import seaborn as sns\n",
    "from sklearn.model_selection import train_test_split\n",
    "from sklearn.metrics import confusion_matrix, classification_report\n",
    "from sklearn.preprocessing import LabelEncoder\n",
    "from IPython.display import display, HTML"
   ]
  },
  {
   "cell_type": "markdown",
   "id": "317e4df3",
   "metadata": {},
   "source": [
    "# ✅ Deteksi tangan dengan MediaPipe"
   ]
  },
  {
   "cell_type": "code",
   "execution_count": 2,
   "id": "72058c53",
   "metadata": {},
   "outputs": [],
   "source": [
    "mp_hands = mp.solutions.hands\n",
    "mp_drawing = mp.solutions.drawing_utils\n",
    "hands = mp_hands.Hands(min_detection_confidence=0.5, min_tracking_confidence=0.5)"
   ]
  },
  {
   "cell_type": "markdown",
   "id": "c9730ec8",
   "metadata": {},
   "source": [
    "# ✅ Ambil dan simpan data gesture"
   ]
  },
  {
   "cell_type": "code",
   "execution_count": null,
   "id": "ac0b6600",
   "metadata": {},
   "outputs": [
    {
     "name": "stdout",
     "output_type": "stream",
     "text": [
      "Bersiap untuk merekam gesture: SS\n",
      "Tekan 's' untuk mulai merekam...\n",
      "Merekam 600 sampel untuk gesture: SS\n",
      "Selesai merekam SS! Data disimpan.\n",
      "Bersiap untuk merekam gesture: transfer_SS\n",
      "Tekan 's' untuk mulai merekam...\n",
      "Merekam 600 sampel untuk gesture: transfer_SS\n",
      "Selesai merekam transfer_SS! Data disimpan.\n"
     ]
    }
   ],
   "source": [
    "DATA_DIR = \"hand_data\"\n",
    "os.makedirs(DATA_DIR, exist_ok=True)\n",
    "gestures = [\"SS\", \"transfer_SS\"]\n",
    "num_samples = 600\n",
    "\n",
    "cap = cv2.VideoCapture(0)\n",
    "\n",
    "for gesture_name in gestures:\n",
    "    print(f\"Bersiap untuk merekam gesture: {gesture_name}\")\n",
    "    print(\"Tekan 's' untuk mulai merekam...\")\n",
    "\n",
    "    # Tunggu hingga user tekan 's'\n",
    "    while True:\n",
    "        ret, frame = cap.read()\n",
    "        frame = cv2.flip(frame, 1)\n",
    "        cv2.putText(frame, f\"Tekan 's' untuk rekam {gesture_name}\", (50, 50),\n",
    "                    cv2.FONT_HERSHEY_SIMPLEX, 0.7, (0, 255, 0), 2)\n",
    "        cv2.imshow(\"Hand Tracking\", frame)\n",
    "        if cv2.waitKey(1) & 0xFF == ord('s'):\n",
    "            break\n",
    "\n",
    "    print(f\"Merekam {num_samples} sampel untuk gesture: {gesture_name}\")\n",
    "    data, labels = [], []\n",
    "    i = 0\n",
    "\n",
    "    while i < num_samples:\n",
    "        ret, frame = cap.read()\n",
    "        frame = cv2.flip(frame, 1)\n",
    "        rgb_frame = cv2.cvtColor(frame, cv2.COLOR_BGR2RGB)\n",
    "        result = hands.process(rgb_frame)\n",
    "\n",
    "        if result.multi_hand_landmarks:\n",
    "            for hand_landmarks in result.multi_hand_landmarks:\n",
    "                landmarks = []\n",
    "                for lm in hand_landmarks.landmark:\n",
    "                    landmarks.append(lm.x)\n",
    "                    landmarks.append(lm.y)\n",
    "                    landmarks.append(lm.z)  # z untuk kedalaman\n",
    "                data.append(landmarks)\n",
    "                labels.append(gesture_name)  # ✅ Simpan label sebagai string, bukan angka\n",
    "                i += 1\n",
    "\n",
    "                mp_drawing.draw_landmarks(frame, hand_landmarks, mp_hands.HAND_CONNECTIONS)\n",
    "\n",
    "        cv2.putText(frame, f\"Recording {gesture_name}: {i}/{num_samples}\", (50, 50),\n",
    "                    cv2.FONT_HERSHEY_SIMPLEX, 0.7, (0, 0, 255), 2)\n",
    "        cv2.imshow(\"Hand Tracking\", frame)\n",
    "        if cv2.waitKey(10) & 0xFF == ord('q'):\n",
    "            break\n",
    "\n",
    "    np.save(os.path.join(DATA_DIR, f\"{gesture_name}_data.npy\"), np.array(data))\n",
    "    np.save(os.path.join(DATA_DIR, f\"{gesture_name}_labels.npy\"), np.array(labels))  # ✅ Label tetap string\n",
    "    print(f\"Selesai merekam {gesture_name}! Data disimpan.\")\n",
    "\n",
    "cap.release()\n",
    "cv2.destroyAllWindows()"
   ]
  },
  {
   "cell_type": "code",
   "execution_count": 3,
   "id": "a80fe4d7",
   "metadata": {},
   "outputs": [
    {
     "name": "stdout",
     "output_type": "stream",
     "text": [
      "\n",
      "=== Gesture: SS (Screenshot) ===\n",
      "Vektor fitur (63 nilai):\n",
      "[ 9.21671689e-01  8.28608155e-01  1.48671560e-07  8.59437406e-01\n",
      "  8.11953485e-01 -2.14683786e-02  8.02134693e-01  7.64693022e-01\n",
      " -3.32777984e-02  7.56477356e-01  7.26188362e-01 -4.15811464e-02\n",
      "  7.15011835e-01  6.92384064e-01 -4.77184579e-02  8.38938057e-01\n",
      "  6.54418886e-01 -2.09479816e-02  8.00544441e-01  5.77601731e-01\n",
      " -3.57486606e-02  7.67147660e-01  5.54471672e-01 -4.74159233e-02\n",
      "  7.37347424e-01  5.52250564e-01 -5.33325970e-02  8.69353235e-01\n",
      "  6.41868174e-01 -1.67101938e-02  8.29026461e-01  5.64850807e-01\n",
      " -2.79522333e-02  7.88643956e-01  5.43233991e-01 -3.56983319e-02\n",
      "  7.56331742e-01  5.42706072e-01 -4.05754708e-02  8.95188630e-01\n",
      "  6.41974688e-01 -1.45122446e-02  8.58085692e-01  5.66883445e-01\n",
      " -2.42505055e-02  8.18255067e-01  5.43687999e-01 -2.73416899e-02\n",
      "  7.86307812e-01  5.39888084e-01 -2.77555082e-02  9.16537762e-01\n",
      "  6.46435559e-01 -1.37740374e-02  8.83593857e-01  5.84704876e-01\n",
      " -2.14853100e-02  8.50981534e-01  5.59575081e-01 -2.14319210e-02\n",
      "  8.23722899e-01  5.51615059e-01 -1.92607809e-02]\n",
      "Jumlah fitur: 63\n",
      "\n",
      "Koordinat tiap titik (x, y, z):\n",
      "Titik 01: x=0.922, y=0.829, z=0.000\n",
      "Titik 02: x=0.859, y=0.812, z=-0.021\n",
      "Titik 03: x=0.802, y=0.765, z=-0.033\n",
      "Titik 04: x=0.756, y=0.726, z=-0.042\n",
      "Titik 05: x=0.715, y=0.692, z=-0.048\n",
      "Titik 06: x=0.839, y=0.654, z=-0.021\n",
      "Titik 07: x=0.801, y=0.578, z=-0.036\n",
      "Titik 08: x=0.767, y=0.554, z=-0.047\n",
      "Titik 09: x=0.737, y=0.552, z=-0.053\n",
      "Titik 10: x=0.869, y=0.642, z=-0.017\n",
      "Titik 11: x=0.829, y=0.565, z=-0.028\n",
      "Titik 12: x=0.789, y=0.543, z=-0.036\n",
      "Titik 13: x=0.756, y=0.543, z=-0.041\n",
      "Titik 14: x=0.895, y=0.642, z=-0.015\n",
      "Titik 15: x=0.858, y=0.567, z=-0.024\n",
      "Titik 16: x=0.818, y=0.544, z=-0.027\n",
      "Titik 17: x=0.786, y=0.540, z=-0.028\n",
      "Titik 18: x=0.917, y=0.646, z=-0.014\n",
      "Titik 19: x=0.884, y=0.585, z=-0.021\n",
      "Titik 20: x=0.851, y=0.560, z=-0.021\n",
      "Titik 21: x=0.824, y=0.552, z=-0.019\n",
      "\n",
      "=== Gesture: transfer_SS (Transfer File) ===\n",
      "Vektor fitur (63 nilai):\n",
      "[ 7.77046919e-01  7.38722742e-01  5.40336657e-07  7.04973817e-01\n",
      "  7.20036149e-01 -2.62172576e-02  6.46152914e-01  6.62926197e-01\n",
      " -4.26512249e-02  6.02729142e-01  6.14869714e-01 -5.70702404e-02\n",
      "  5.59462190e-01  5.91750324e-01 -7.17459992e-02  6.84804857e-01\n",
      "  5.26347518e-01 -2.90270746e-02  6.59627140e-01  4.37677830e-01\n",
      " -4.85742129e-02  6.46537244e-01  3.80494744e-01 -6.46291152e-02\n",
      "  6.38230920e-01  3.32889974e-01 -7.70730525e-02  7.29877293e-01\n",
      "  5.09825647e-01 -3.46570574e-02  7.21410453e-01  4.04006779e-01\n",
      " -5.11596464e-02  7.17669547e-01  3.35038900e-01 -6.64225966e-02\n",
      "  7.15244114e-01  2.80210704e-01 -7.79592246e-02  7.74973154e-01\n",
      "  5.18216550e-01 -4.38448861e-02  7.75958538e-01  4.16070849e-01\n",
      " -6.51883483e-02  7.76949346e-01  3.53105485e-01 -8.16848874e-02\n",
      "  7.76645482e-01  2.99564987e-01 -9.31564048e-02  8.19031894e-01\n",
      "  5.45052171e-01 -5.48830889e-02  8.42198133e-01  4.69152838e-01\n",
      " -7.65030086e-02  8.56302202e-01  4.18993801e-01 -8.72060508e-02\n",
      "  8.66277993e-01  3.73164296e-01 -9.40582007e-02]\n",
      "Jumlah fitur: 63\n",
      "\n",
      "Koordinat tiap titik (x, y, z):\n",
      "Titik 01: x=0.777, y=0.739, z=0.000\n",
      "Titik 02: x=0.705, y=0.720, z=-0.026\n",
      "Titik 03: x=0.646, y=0.663, z=-0.043\n",
      "Titik 04: x=0.603, y=0.615, z=-0.057\n",
      "Titik 05: x=0.559, y=0.592, z=-0.072\n",
      "Titik 06: x=0.685, y=0.526, z=-0.029\n",
      "Titik 07: x=0.660, y=0.438, z=-0.049\n",
      "Titik 08: x=0.647, y=0.380, z=-0.065\n",
      "Titik 09: x=0.638, y=0.333, z=-0.077\n",
      "Titik 10: x=0.730, y=0.510, z=-0.035\n",
      "Titik 11: x=0.721, y=0.404, z=-0.051\n",
      "Titik 12: x=0.718, y=0.335, z=-0.066\n",
      "Titik 13: x=0.715, y=0.280, z=-0.078\n",
      "Titik 14: x=0.775, y=0.518, z=-0.044\n",
      "Titik 15: x=0.776, y=0.416, z=-0.065\n",
      "Titik 16: x=0.777, y=0.353, z=-0.082\n",
      "Titik 17: x=0.777, y=0.300, z=-0.093\n",
      "Titik 18: x=0.819, y=0.545, z=-0.055\n",
      "Titik 19: x=0.842, y=0.469, z=-0.077\n",
      "Titik 20: x=0.856, y=0.419, z=-0.087\n",
      "Titik 21: x=0.866, y=0.373, z=-0.094\n"
     ]
    }
   ],
   "source": [
    "# Load data masing-masing gestur dari file\n",
    "data_ss = np.load(\"hand_data/SS_data.npy\")          \n",
    "data_tf = np.load(\"hand_data/transfer_SS_data.npy\")  \n",
    "\n",
    "# Fungsi untuk menampilkan 1 array fitur (frame ke-0) \n",
    "def tampilkan_vektor(data, nama):\n",
    "    print(f\"\\n=== Gesture: {nama} ===\")\n",
    "    print(\"Vektor fitur (63 nilai):\")\n",
    "    print(data[0])  # Menampilkan array fitur frame pertama\n",
    "    print(\"Jumlah fitur:\", len(data[0]))\n",
    "\n",
    "    print(\"\\nKoordinat tiap titik (x, y, z):\")\n",
    "    for i in range(21):\n",
    "        x = data[0][i*3]\n",
    "        y = data[0][i*3 + 1]\n",
    "        z = data[0][i*3 + 2]\n",
    "        print(f\"Titik {i+1:02d}: x={x:.3f}, y={y:.3f}, z={z:.3f}\")\n",
    "\n",
    "# Tampilkan untuk kedua gesture\n",
    "tampilkan_vektor(data_ss, \"SS (Screenshot)\")\n",
    "tampilkan_vektor(data_tf, \"transfer_SS (Transfer File)\")"
   ]
  },
  {
   "cell_type": "markdown",
   "id": "7f2cc298",
   "metadata": {},
   "source": [
    "# ✅ Data augmentation functions"
   ]
  },
  {
   "cell_type": "code",
   "execution_count": 4,
   "id": "eff4ad24",
   "metadata": {},
   "outputs": [],
   "source": [
    "def add_jitter(data, noise_level=0.01):\n",
    "    noise = np.random.normal(0, noise_level, data.shape)\n",
    "    return data + noise\n",
    "\n",
    "def flip_horizontal(data):\n",
    "    data_flipped = data.copy()\n",
    "    data_flipped[:, ::2] = 1 - data_flipped[:, ::2]\n",
    "    return data_flipped\n",
    "\n",
    "def scale(data, scale_range=(0.9, 1.1)):\n",
    "    factor = np.random.uniform(*scale_range)\n",
    "    return data * factor\n",
    "\n",
    "def translate(data, shift_range=0.05):\n",
    "    shift_x = np.random.uniform(-shift_range, shift_range)\n",
    "    shift_y = np.random.uniform(-shift_range, shift_range)\n",
    "    data_translated = data.copy()\n",
    "    data_translated[:, ::2] += shift_x\n",
    "    data_translated[:, 1::2] += shift_y\n",
    "    return data_translated"
   ]
  },
  {
   "cell_type": "markdown",
   "id": "bed8092b",
   "metadata": {},
   "source": [
    "# ✅ Dataset loader + augment"
   ]
  },
  {
   "cell_type": "code",
   "execution_count": 5,
   "id": "27ab72c9",
   "metadata": {},
   "outputs": [],
   "source": [
    "DATA_DIR = \"hand_data\"\n",
    "data_files = [f for f in os.listdir(DATA_DIR) if \"data.npy\" in f]\n",
    "label_files = [f for f in os.listdir(DATA_DIR) if \"labels.npy\" in f]\n",
    "\n",
    "X, y = [], []\n",
    "for file in data_files:\n",
    "    X.append(np.load(os.path.join(DATA_DIR, file)))\n",
    "for file in label_files:\n",
    "    y.append(np.load(os.path.join(DATA_DIR, file)))\n",
    "\n",
    "X = np.concatenate(X, axis=0)\n",
    "y = np.concatenate(y, axis=0)"
   ]
  },
  {
   "cell_type": "markdown",
   "id": "29c3a1fb",
   "metadata": {},
   "source": [
    "# ✅ Apply augmentation"
   ]
  },
  {
   "cell_type": "code",
   "execution_count": 6,
   "id": "d1710bd3",
   "metadata": {},
   "outputs": [
    {
     "name": "stdout",
     "output_type": "stream",
     "text": [
      "Data after augmentation: (3603, 63)\n"
     ]
    }
   ],
   "source": [
    "def augment_dataset(X, y, augment_factor=2):\n",
    "    X_augmented, y_augmented = [], []\n",
    "    for i in range(len(X)):\n",
    "        X_augmented.append(X[i])\n",
    "        y_augmented.append(y[i])\n",
    "        for _ in range(augment_factor):\n",
    "            method = np.random.choice(['jitter', 'flip', 'scale', 'translate'])\n",
    "            if method == 'jitter':\n",
    "                X_aug = add_jitter(X[i].reshape(1, -1))\n",
    "            elif method == 'flip':\n",
    "                X_aug = flip_horizontal(X[i].reshape(1, -1))\n",
    "            elif method == 'scale':\n",
    "                X_aug = scale(X[i].reshape(1, -1))\n",
    "            elif method == 'translate':\n",
    "                X_aug = translate(X[i].reshape(1, -1))\n",
    "            X_augmented.append(X_aug[0])\n",
    "            y_augmented.append(y[i])\n",
    "    return np.array(X_augmented), np.array(y_augmented)\n",
    "\n",
    "X, y = augment_dataset(X, y)\n",
    "print(\"Data after augmentation:\", X.shape)"
   ]
  },
  {
   "cell_type": "code",
   "execution_count": 7,
   "id": "1ac88bcd",
   "metadata": {},
   "outputs": [
    {
     "data": {
      "image/png": "[encoded data removed]",
      "text/plain": [
       "<Figure size 800x400 with 2 Axes>"
      ]
     },
     "metadata": {},
     "output_type": "display_data"
    }
   ],
   "source": [
    "# Visualisasi hasil augmentasi\n",
    "sample = X[0].reshape(-1)  # 63 elemen -> 21 titik x y z\n",
    "x = sample[0::3]\n",
    "y = sample[1::3]\n",
    "\n",
    "# Augmentasi (misalnya jitter atau translate)\n",
    "sample_aug = add_jitter(sample.reshape(1, -1)).reshape(-1)\n",
    "x_aug = sample_aug[0::3]\n",
    "y_aug = sample_aug[1::3]\n",
    "\n",
    "# Plot hasilnya\n",
    "plt.figure(figsize=(8, 4))\n",
    "\n",
    "plt.subplot(1, 2, 1)\n",
    "plt.scatter(x, y, c='blue')\n",
    "plt.title(\"Sebelum Augmentasi\")\n",
    "plt.gca().invert_yaxis()\n",
    "\n",
    "plt.subplot(1, 2, 2)\n",
    "plt.scatter(x_aug, y_aug, c='red')\n",
    "plt.title(\"Setelah Augmentasi (Jitter)\")\n",
    "plt.gca().invert_yaxis()\n",
    "\n",
    "plt.tight_layout()\n",
    "plt.show()"
   ]
  },
  {
   "cell_type": "markdown",
   "id": "9a569738",
   "metadata": {},
   "source": [
    "# ✅ Load dan preprocessing data, Encode labels and reshape input"
   ]
  },
  {
   "cell_type": "code",
   "execution_count": 8,
   "id": "6c0275e0",
   "metadata": {},
   "outputs": [],
   "source": [
    "data_files = [f for f in os.listdir(DATA_DIR) if \"data.npy\" in f]\n",
    "label_files = [f for f in os.listdir(DATA_DIR) if \"labels.npy\" in f]\n",
    "\n",
    "X, y = [], []\n",
    "for file in data_files:\n",
    "    X.append(np.load(os.path.join(DATA_DIR, file)))\n",
    "for file in label_files:\n",
    "    y.append(np.load(os.path.join(DATA_DIR, file)))\n",
    "\n",
    "X = np.concatenate(X, axis=0)\n",
    "y = np.concatenate(y, axis=0)\n",
    "\n",
    "le = LabelEncoder()\n",
    "y = le.fit_transform(y)\n",
    "X = X.reshape(X.shape[0], 1, X.shape[1])"
   ]
  },
  {
   "cell_type": "markdown",
   "id": "e02f3097",
   "metadata": {},
   "source": [
    "# ✅ Split data + model training + validation"
   ]
  },
  {
   "cell_type": "code",
   "execution_count": 9,
   "id": "5501295c",
   "metadata": {},
   "outputs": [
    {
     "name": "stdout",
     "output_type": "stream",
     "text": [
      "WARNING:tensorflow:From d:\\Tugas Akhir\\Program\\jupyter-hands-recognition\\venv\\Lib\\site-packages\\keras\\src\\layers\\rnn\\lstm.py:148: The name tf.executing_eagerly_outside_functions is deprecated. Please use tf.compat.v1.executing_eagerly_outside_functions instead.\n",
      "\n",
      "WARNING:tensorflow:From d:\\Tugas Akhir\\Program\\jupyter-hands-recognition\\venv\\Lib\\site-packages\\keras\\src\\optimizers\\__init__.py:309: The name tf.train.Optimizer is deprecated. Please use tf.compat.v1.train.Optimizer instead.\n",
      "\n",
      "Epoch 1/30\n",
      "WARNING:tensorflow:From d:\\Tugas Akhir\\Program\\jupyter-hands-recognition\\venv\\Lib\\site-packages\\keras\\src\\utils\\tf_utils.py:492: The name tf.ragged.RaggedTensorValue is deprecated. Please use tf.compat.v1.ragged.RaggedTensorValue instead.\n",
      "\n",
      "WARNING:tensorflow:From d:\\Tugas Akhir\\Program\\jupyter-hands-recognition\\venv\\Lib\\site-packages\\keras\\src\\engine\\base_layer_utils.py:384: The name tf.executing_eagerly_outside_functions is deprecated. Please use tf.compat.v1.executing_eagerly_outside_functions instead.\n",
      "\n",
      "60/60 [==============================] - 3s 8ms/step - loss: 0.6933 - accuracy: 0.4896 - val_loss: 0.6911 - val_accuracy: 0.6141\n",
      "Epoch 2/30\n",
      "60/60 [==============================] - 0s 2ms/step - loss: 0.6568 - accuracy: 0.6958 - val_loss: 0.5453 - val_accuracy: 0.9004\n",
      "Epoch 3/30\n",
      "60/60 [==============================] - 0s 2ms/step - loss: 0.3508 - accuracy: 0.8969 - val_loss: 0.2142 - val_accuracy: 0.9253\n",
      "Epoch 4/30\n",
      "60/60 [==============================] - 0s 2ms/step - loss: 0.1956 - accuracy: 0.9260 - val_loss: 0.1420 - val_accuracy: 0.9502\n",
      "Epoch 5/30\n",
      "60/60 [==============================] - 0s 2ms/step - loss: 0.2053 - accuracy: 0.9135 - val_loss: 0.1486 - val_accuracy: 0.9668\n",
      "Epoch 6/30\n",
      "60/60 [==============================] - 0s 3ms/step - loss: 0.1646 - accuracy: 0.9281 - val_loss: 0.1010 - val_accuracy: 0.9668\n",
      "Epoch 7/30\n",
      "60/60 [==============================] - 0s 3ms/step - loss: 0.1387 - accuracy: 0.9427 - val_loss: 0.0884 - val_accuracy: 0.9710\n",
      "Epoch 8/30\n",
      "60/60 [==============================] - 0s 3ms/step - loss: 0.1161 - accuracy: 0.9563 - val_loss: 0.0878 - val_accuracy: 0.9710\n",
      "Epoch 9/30\n",
      "60/60 [==============================] - 0s 4ms/step - loss: 0.1219 - accuracy: 0.9500 - val_loss: 0.0682 - val_accuracy: 0.9793\n",
      "Epoch 10/30\n",
      "60/60 [==============================] - 0s 3ms/step - loss: 0.0842 - accuracy: 0.9667 - val_loss: 0.0767 - val_accuracy: 0.9710\n",
      "Epoch 11/30\n",
      "60/60 [==============================] - 0s 3ms/step - loss: 0.0965 - accuracy: 0.9635 - val_loss: 0.0508 - val_accuracy: 0.9876\n",
      "Epoch 12/30\n",
      "60/60 [==============================] - 0s 4ms/step - loss: 0.0925 - accuracy: 0.9604 - val_loss: 0.0776 - val_accuracy: 0.9710\n",
      "Epoch 13/30\n",
      "60/60 [==============================] - 0s 3ms/step - loss: 0.0818 - accuracy: 0.9719 - val_loss: 0.0666 - val_accuracy: 0.9710\n",
      "Epoch 14/30\n",
      "60/60 [==============================] - 0s 3ms/step - loss: 0.0683 - accuracy: 0.9729 - val_loss: 0.1019 - val_accuracy: 0.9544\n",
      "Epoch 15/30\n",
      "60/60 [==============================] - 0s 3ms/step - loss: 0.0690 - accuracy: 0.9740 - val_loss: 0.1028 - val_accuracy: 0.9461\n",
      "Epoch 16/30\n",
      "60/60 [==============================] - 0s 3ms/step - loss: 0.0514 - accuracy: 0.9854 - val_loss: 0.0281 - val_accuracy: 1.0000\n",
      "Epoch 17/30\n",
      "60/60 [==============================] - 0s 2ms/step - loss: 0.0471 - accuracy: 0.9875 - val_loss: 0.0238 - val_accuracy: 0.9959\n",
      "Epoch 18/30\n",
      "60/60 [==============================] - 0s 2ms/step - loss: 0.0366 - accuracy: 0.9896 - val_loss: 0.0230 - val_accuracy: 1.0000\n",
      "Epoch 19/30\n",
      "60/60 [==============================] - 0s 2ms/step - loss: 0.0371 - accuracy: 0.9927 - val_loss: 0.0335 - val_accuracy: 0.9876\n",
      "Epoch 20/30\n",
      "60/60 [==============================] - 0s 2ms/step - loss: 0.0421 - accuracy: 0.9844 - val_loss: 0.1703 - val_accuracy: 0.9378\n",
      "Epoch 21/30\n",
      "60/60 [==============================] - 0s 2ms/step - loss: 0.0432 - accuracy: 0.9854 - val_loss: 0.0158 - val_accuracy: 1.0000\n",
      "Epoch 22/30\n",
      "60/60 [==============================] - 0s 2ms/step - loss: 0.0275 - accuracy: 0.9917 - val_loss: 0.0153 - val_accuracy: 0.9959\n",
      "Epoch 23/30\n",
      "60/60 [==============================] - 0s 2ms/step - loss: 0.0261 - accuracy: 0.9917 - val_loss: 0.0116 - val_accuracy: 1.0000\n",
      "Epoch 24/30\n",
      "60/60 [==============================] - 0s 2ms/step - loss: 0.0276 - accuracy: 0.9948 - val_loss: 0.0113 - val_accuracy: 1.0000\n",
      "Epoch 25/30\n",
      "60/60 [==============================] - 0s 2ms/step - loss: 0.0240 - accuracy: 0.9906 - val_loss: 0.0102 - val_accuracy: 1.0000\n",
      "Epoch 26/30\n",
      "60/60 [==============================] - 0s 2ms/step - loss: 0.0335 - accuracy: 0.9875 - val_loss: 0.0163 - val_accuracy: 1.0000\n",
      "Epoch 27/30\n",
      "60/60 [==============================] - 0s 2ms/step - loss: 0.0447 - accuracy: 0.9812 - val_loss: 0.0767 - val_accuracy: 0.9710\n",
      "Epoch 28/30\n",
      "60/60 [==============================] - 0s 2ms/step - loss: 0.0206 - accuracy: 0.9937 - val_loss: 0.0092 - val_accuracy: 1.0000\n",
      "Epoch 29/30\n",
      "60/60 [==============================] - 0s 2ms/step - loss: 0.0287 - accuracy: 0.9885 - val_loss: 0.0194 - val_accuracy: 0.9959\n",
      "Epoch 30/30\n",
      "60/60 [==============================] - 0s 2ms/step - loss: 0.0178 - accuracy: 0.9937 - val_loss: 0.0161 - val_accuracy: 0.9959\n"
     ]
    }
   ],
   "source": [
    "X_train, X_test, y_train, y_test = train_test_split(X, y, test_size=0.2, stratify=y, random_state=42)\n",
    "\n",
    "model = Sequential([\n",
    "    LSTM(64, return_sequences=True, activation='relu', input_shape=(1, X.shape[2])),\n",
    "    LSTM(64, return_sequences=False, activation='relu'),\n",
    "    Dense(64, activation='relu'),\n",
    "    Dense(len(set(y)), activation='softmax')\n",
    "])\n",
    "\n",
    "model.compile(optimizer='adam', loss='sparse_categorical_crossentropy', metrics=['accuracy'])\n",
    "history = model.fit(X_train, y_train, epochs=30, batch_size=16, validation_data=(X_test, y_test))\n"
   ]
  },
  {
   "cell_type": "markdown",
   "id": "10cfb694",
   "metadata": {},
   "source": [
    "# ✅ Plot accuracy dan loss"
   ]
  },
  {
   "cell_type": "code",
   "execution_count": 10,
   "id": "1e846682",
   "metadata": {},
   "outputs": [
    {
     "data": {
      "image/png": "[encoded data removed]",
      "text/plain": [
       "<Figure size 1200x500 with 2 Axes>"
      ]
     },
     "metadata": {},
     "output_type": "display_data"
    }
   ],
   "source": [
    "plt.figure(figsize=(12, 5))\n",
    "plt.subplot(1, 2, 1)\n",
    "plt.plot(history.history['accuracy'], label='Train Acc')\n",
    "plt.plot(history.history['val_accuracy'], label='Val Acc')\n",
    "plt.title('Accuracy per Epoch')\n",
    "plt.xlabel('Epoch')\n",
    "plt.ylabel('Accuracy')\n",
    "plt.legend(loc='lower right')\n",
    "plt.subplot(1, 2, 2)\n",
    "plt.plot(history.history['loss'], label='Train Loss')\n",
    "plt.plot(history.history['val_loss'], label='Val Loss')\n",
    "plt.title('Loss per Epoch')\n",
    "plt.xlabel('Epoch')\n",
    "plt.ylabel('Loss')\n",
    "plt.legend()\n",
    "plt.tight_layout()\n",
    "plt.show()\n"
   ]
  },
  {
   "cell_type": "markdown",
   "id": "919f9d0e",
   "metadata": {},
   "source": [
    "# ✅ Confusion matrix dan evaluasi model"
   ]
  },
  {
   "cell_type": "code",
   "execution_count": 17,
   "id": "50311a49",
   "metadata": {},
   "outputs": [
    {
     "name": "stdout",
     "output_type": "stream",
     "text": [
      "8/8 [==============================] - 0s 3ms/step\n"
     ]
    },
    {
     "data": {
      "image/png": "[encoded data removed]",
      "text/plain": [
       "<Figure size 600x500 with 2 Axes>"
      ]
     },
     "metadata": {},
     "output_type": "display_data"
    },
    {
     "name": "stdout",
     "output_type": "stream",
     "text": [
      "Accuracy: 99.59%\n",
      "Precision: 99.59%\n",
      "Recall: 99.59%\n",
      "F1-score: 99.59%\n"
     ]
    }
   ],
   "source": [
    "# Prediksi kelas\n",
    "y_pred = model.predict(X_test)\n",
    "y_pred_classes = np.argmax(y_pred, axis=1)\n",
    "\n",
    "# Urutan label yang diinginkan: transfer_SS dulu, lalu SS\n",
    "label_order = ['transfer_SS', 'SS']\n",
    "\n",
    "# Ambil indeks label sesuai urutan di LabelEncoder\n",
    "label_indices = [np.where(le.classes_ == label)[0][0] for label in label_order]\n",
    "\n",
    "# Hitung confusion matrix dengan urutan label yang diatur\n",
    "cm = confusion_matrix(y_test, y_pred_classes, labels=label_indices)\n",
    "\n",
    "# Plot confusion matrix\n",
    "plt.figure(figsize=(6, 5))\n",
    "sns.heatmap(cm, annot=True, fmt='d', cmap='Blues',\n",
    "            xticklabels=label_order, yticklabels=label_order)\n",
    "plt.xlabel(\"Predicted\")\n",
    "plt.ylabel(\"Actual\")\n",
    "plt.title(\"Confusion Matrix\")\n",
    "plt.show()\n",
    "\n",
    "# Hitung classification report dengan label terurut\n",
    "report = classification_report(y_test, y_pred_classes,\n",
    "                               labels=label_indices,\n",
    "                               target_names=label_order,\n",
    "                               output_dict=True)\n",
    "\n",
    "# Ambil metrik-metrik utama\n",
    "accuracy = report['accuracy'] * 100\n",
    "precision = report['weighted avg']['precision'] * 100\n",
    "recall = report['weighted avg']['recall'] * 100\n",
    "f1 = report['weighted avg']['f1-score'] * 100\n",
    "\n",
    "# Cetak hasil evaluasi\n",
    "print(f\"Accuracy: {accuracy:.2f}%\")\n",
    "print(f\"Precision: {precision:.2f}%\")\n",
    "print(f\"Recall: {recall:.2f}%\")\n",
    "print(f\"F1-score: {f1:.2f}%\")"
   ]
  },
  {
   "cell_type": "markdown",
   "id": "61a7d600",
   "metadata": {},
   "source": [
    "# ✅ Tampilkan metrik dalam format besar HTML"
   ]
  },
  {
   "cell_type": "code",
   "execution_count": 18,
   "id": "7ea6debb",
   "metadata": {},
   "outputs": [
    {
     "data": {
      "text/html": [
       "\n",
       "<h3><strong>Accuracy:</strong> 99.59%</h3>\n",
       "<h3><strong>Precision:</strong> 99.59%</h3>\n",
       "<h3><strong>Recall:</strong> 99.59%</h3>\n",
       "<h3><strong>F1-score:</strong> 99.59%</h3>\n"
      ],
      "text/plain": [
       "<IPython.core.display.HTML object>"
      ]
     },
     "metadata": {},
     "output_type": "display_data"
    }
   ],
   "source": [
    "html = f\"\"\"\n",
    "<h3><strong>Accuracy:</strong> {accuracy:.2f}%</h3>\n",
    "<h3><strong>Precision:</strong> {precision:.2f}%</h3>\n",
    "<h3><strong>Recall:</strong> {recall:.2f}%</h3>\n",
    "<h3><strong>F1-score:</strong> {f1:.2f}%</h3>\n",
    "\"\"\"\n",
    "display(HTML(html))"
   ]
  },
  {
   "cell_type": "markdown",
   "id": "77f885e6",
   "metadata": {},
   "source": [
    "# ✅ Simpan model"
   ]
  },
  {
   "cell_type": "code",
   "execution_count": 13,
   "id": "261d6512",
   "metadata": {},
   "outputs": [
    {
     "name": "stderr",
     "output_type": "stream",
     "text": [
      "d:\\Tugas Akhir\\Program\\jupyter-hands-recognition\\venv\\Lib\\site-packages\\keras\\src\\engine\\training.py:3103: UserWarning: You are saving your model as an HDF5 file via `model.save()`. This file format is considered legacy. We recommend using instead the native Keras format, e.g. `model.save('my_model.keras')`.\n",
      "  saving_api.save_model(\n"
     ]
    }
   ],
   "source": [
    "model.save(\"hand_gesture_model.h5\")"
   ]
  },
  {
   "cell_type": "markdown",
   "id": "fec3e51d",
   "metadata": {},
   "source": [
    "# ✅ Real-time prediksi gesture via webcam"
   ]
  },
  {
   "cell_type": "code",
   "execution_count": 14,
   "id": "317ec444",
   "metadata": {},
   "outputs": [
    {
     "name": "stdout",
     "output_type": "stream",
     "text": [
      "1/1 [==============================] - 0s 206ms/step\n",
      "1/1 [==============================] - 0s 18ms/step\n",
      "1/1 [==============================] - 0s 18ms/step\n",
      "1/1 [==============================] - 0s 8ms/step\n",
      "1/1 [==============================] - 0s 37ms/step\n",
      "1/1 [==============================] - 0s 8ms/step\n",
      "1/1 [==============================] - 0s 5ms/step\n",
      "1/1 [==============================] - 0s 6ms/step\n",
      "1/1 [==============================] - 0s 3ms/step\n",
      "1/1 [==============================] - 0s 19ms/step\n",
      "1/1 [==============================] - 0s 28ms/step\n",
      "1/1 [==============================] - 0s 6ms/step\n",
      "1/1 [==============================] - 0s 12ms/step\n",
      "1/1 [==============================] - 0s 18ms/step\n",
      "1/1 [==============================] - 0s 18ms/step\n",
      "1/1 [==============================] - 0s 19ms/step\n",
      "1/1 [==============================] - 0s 5ms/step\n",
      "1/1 [==============================] - 0s 5ms/step\n",
      "1/1 [==============================] - 0s 17ms/step\n",
      "1/1 [==============================] - 0s 18ms/step\n",
      "1/1 [==============================] - 0s 18ms/step\n",
      "1/1 [==============================] - 0s 8ms/step\n",
      "1/1 [==============================] - 0s 18ms/step\n",
      "1/1 [==============================] - 0s 18ms/step\n",
      "1/1 [==============================] - 0s 19ms/step\n",
      "1/1 [==============================] - 0s 12ms/step\n",
      "1/1 [==============================] - 0s 18ms/step\n",
      "1/1 [==============================] - 0s 4ms/step\n",
      "1/1 [==============================] - 0s 6ms/step\n",
      "1/1 [==============================] - 0s 19ms/step\n",
      "1/1 [==============================] - 0s 17ms/step\n",
      "1/1 [==============================] - 0s 8ms/step\n",
      "1/1 [==============================] - 0s 32ms/step\n",
      "1/1 [==============================] - 0s 17ms/step\n",
      "1/1 [==============================] - 0s 19ms/step\n",
      "1/1 [==============================] - 0s 28ms/step\n",
      "1/1 [==============================] - 0s 18ms/step\n",
      "1/1 [==============================] - 0s 6ms/step\n",
      "1/1 [==============================] - 0s 17ms/step\n",
      "1/1 [==============================] - 0s 30ms/step\n",
      "1/1 [==============================] - 0s 30ms/step\n",
      "1/1 [==============================] - 0s 9ms/step\n",
      "1/1 [==============================] - 0s 30ms/step\n",
      "1/1 [==============================] - 0s 5ms/step\n",
      "1/1 [==============================] - 0s 18ms/step\n",
      "1/1 [==============================] - 0s 29ms/step\n",
      "1/1 [==============================] - 0s 4ms/step\n",
      "1/1 [==============================] - 0s 17ms/step\n",
      "1/1 [==============================] - 0s 18ms/step\n",
      "1/1 [==============================] - 0s 19ms/step\n",
      "1/1 [==============================] - 0s 34ms/step\n",
      "1/1 [==============================] - 0s 17ms/step\n",
      "1/1 [==============================] - 0s 17ms/step\n",
      "1/1 [==============================] - 0s 15ms/step\n",
      "1/1 [==============================] - 0s 19ms/step\n",
      "1/1 [==============================] - 0s 20ms/step\n",
      "1/1 [==============================] - 0s 19ms/step\n",
      "1/1 [==============================] - 0s 16ms/step\n",
      "1/1 [==============================] - 0s 29ms/step\n",
      "1/1 [==============================] - 0s 5ms/step\n",
      "1/1 [==============================] - 0s 34ms/step\n",
      "1/1 [==============================] - 0s 18ms/step\n",
      "1/1 [==============================] - 0s 30ms/step\n",
      "1/1 [==============================] - 0s 4ms/step\n",
      "1/1 [==============================] - 0s 5ms/step\n",
      "1/1 [==============================] - 0s 18ms/step\n",
      "1/1 [==============================] - 0s 18ms/step\n",
      "1/1 [==============================] - 0s 17ms/step\n",
      "1/1 [==============================] - 0s 17ms/step\n",
      "1/1 [==============================] - 0s 26ms/step\n",
      "1/1 [==============================] - 0s 19ms/step\n",
      "1/1 [==============================] - 0s 23ms/step\n",
      "1/1 [==============================] - 0s 18ms/step\n",
      "1/1 [==============================] - 0s 17ms/step\n",
      "1/1 [==============================] - 0s 17ms/step\n",
      "1/1 [==============================] - 0s 29ms/step\n",
      "1/1 [==============================] - 0s 24ms/step\n",
      "1/1 [==============================] - 0s 16ms/step\n",
      "1/1 [==============================] - 0s 17ms/step\n",
      "1/1 [==============================] - 0s 7ms/step\n",
      "1/1 [==============================] - 0s 17ms/step\n",
      "1/1 [==============================] - 0s 17ms/step\n",
      "1/1 [==============================] - 0s 6ms/step\n"
     ]
    }
   ],
   "source": [
    "model = tf.keras.models.load_model(\"hand_gesture_model.h5\")\n",
    "cap = cv2.VideoCapture(0)\n",
    "\n",
    "while cap.isOpened():\n",
    "    ret, frame = cap.read()\n",
    "    frame = cv2.flip(frame, 1)\n",
    "    rgb_frame = cv2.cvtColor(frame, cv2.COLOR_BGR2RGB)\n",
    "    result = hands.process(rgb_frame)\n",
    "\n",
    "    if result.multi_hand_landmarks:\n",
    "        for hand_landmarks in result.multi_hand_landmarks:\n",
    "            landmarks = []\n",
    "            for lm in hand_landmarks.landmark:\n",
    "                landmarks.append(lm.x)\n",
    "                landmarks.append(lm.y)\n",
    "                landmarks.append(lm.z)\n",
    "            landmarks = np.array(landmarks).reshape(1, 1, -1)\n",
    "            prediction = model.predict(landmarks)\n",
    "            class_index = np.argmax(prediction)\n",
    "            class_label = le.inverse_transform([class_index])[0]\n",
    "            cv2.putText(frame, class_label, (50, 50), cv2.FONT_HERSHEY_SIMPLEX, 1, (0, 255, 0), 2, cv2.LINE_AA)\n",
    "            mp_drawing.draw_landmarks(frame, hand_landmarks, mp_hands.HAND_CONNECTIONS)\n",
    "    cv2.imshow(\"Hand Gesture Recognition\", frame)\n",
    "    if cv2.waitKey(10) & 0xFF == ord('q'):\n",
    "        break\n",
    "\n",
    "cap.release()\n",
    "cv2.destroyAllWindows()"
   ]
  }
 ],
 "metadata": {
  "kernelspec": {
   "display_name": "venv",
   "language": "python",
   "name": "python3"
  },
  "language_info": {
   "codemirror_mode": {
    "name": "ipython",
    "version": 3
   },
   "file_extension": ".py",
   "mimetype": "text/x-python",
   "name": "python",
   "nbconvert_exporter": "python",
   "pygments_lexer": "ipython3",
   "version": "3.11.9"
  }
 },
 "nbformat": 4,
 "nbformat_minor": 5
}
